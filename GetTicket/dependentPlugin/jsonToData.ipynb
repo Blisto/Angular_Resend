{
 "cells": [
  {
   "cell_type": "code",
   "execution_count": 9,
   "metadata": {},
   "outputs": [],
   "source": [
    "#python包裝讀json挑特定電號的資料\n",
    "#jupyter nbconvert jsonToData.ipynb --to python\n",
    "#pyinstaller -F jsonToData.py\n",
    "#\n",
    "#24.07.04:要處理無資料時的狀態 看一下exit code如何運作\n",
    "\n"
   ]
  },
  {
   "cell_type": "code",
   "execution_count": 2,
   "metadata": {},
   "outputs": [],
   "source": [
    "import pymysql\n",
    "from array import array\n",
    "import datetime\n",
    "import json\n",
    "import time\n",
    "from configparser import ConfigParser\n",
    "import sys\n",
    "import argparse\n",
    "import re\n",
    "import os"
   ]
  },
  {
   "cell_type": "code",
   "execution_count": 8,
   "metadata": {},
   "outputs": [
    {
     "name": "stdout",
     "output_type": "stream",
     "text": [
      "filePath,TableName,user,password\n"
     ]
    }
   ],
   "source": [
    "n = len(sys.argv)\n",
    "if n < 3:\n",
    "    print(\"NEED:filePath、elecNum\")\n",
    "else:\n",
    "    argparse=argparse.ArgumentParser()\n",
    "    argparse.add_argument('args', nargs='*')\n",
    "    args = argparse.parse_args()\n",
    "    argsfilePath=args.args[0].replace('\\\\','/')\n",
    "    elecNum=args.args[1]\n",
    "    print(argsfilePath)\n",
    "\n",
    "    with open(argsfilePath, 'r', encoding='utf-8') as file:\n",
    "        data = json.load(file)\n",
    "    key_to_find = elecNum\n",
    "    if key_to_find in data:\n",
    "        value = data[key_to_find]\n",
    "        original_text = value.encode('utf-8').decode('utf-8')\n",
    "#       取得檔名部分（不含副檔名）\n",
    "        filename = os.path.splitext(os.path.basename(argsfilePath))[0]\n",
    "        parts = filename.split(\"_\")\n",
    "#       替換第二段為 elecNum\n",
    "        parts[1] = elecNum\n",
    "#       合併字串\n",
    "        result = \"_\".join(parts)\n",
    "        outputfilename=result+\".txt\"\n",
    "        with open(outputfilename, 'w', encoding='utf-8') as f:\n",
    "            f.write(original_text)\n",
    "    else:\n",
    "#       5:查無的意思\n",
    "        sys.exit(5)\n",
    "        print(\"NaN\")"
   ]
  },
  {
   "cell_type": "code",
   "execution_count": null,
   "metadata": {},
   "outputs": [],
   "source": []
  },
  {
   "cell_type": "code",
   "execution_count": null,
   "metadata": {},
   "outputs": [],
   "source": []
  },
  {
   "cell_type": "code",
   "execution_count": 10,
   "metadata": {
    "scrolled": true
   },
   "outputs": [],
   "source": [
    "########把原檔整理成json###########\n",
    "# file_path = \"GB818_FUCKU10_1120501_UNFILTER.TXT\"\n",
    "# json_data = {}\n",
    "# with open(file_path, \"r\", encoding=\"utf-8\") as infile:\n",
    "#     for line in infile:\n",
    "#         key = line[4:14]\n",
    "#         value = line\n",
    "#         json_data[key] = value\n",
    "# #         print(line)\n",
    "        \n",
    "# file_path = \"my_data.json\"\n",
    "# with open(file_path, \"w\", encoding=\"utf-8\") as json_file:\n",
    "#     json.dump(json_data, json_file, indent=4)\n",
    "\n",
    "# print(f\"JSON物件已儲存到 {file_path}\")"
   ]
  },
  {
   "cell_type": "code",
   "execution_count": null,
   "metadata": {},
   "outputs": [],
   "source": []
  },
  {
   "cell_type": "code",
   "execution_count": 11,
   "metadata": {},
   "outputs": [],
   "source": [
    "# unicode_text = json_data[\"0376272005\"]  # 這裡填入 Unicode 字串\n",
    "# original_text = unicode_text.encode('utf-8').decode('utf-8')\n",
    "# print(original_text)"
   ]
  },
  {
   "cell_type": "code",
   "execution_count": null,
   "metadata": {},
   "outputs": [],
   "source": []
  },
  {
   "cell_type": "code",
   "execution_count": 7,
   "metadata": {},
   "outputs": [],
   "source": [
    "# filename=\"jsonOutput.txt\"\n",
    "# with open(filename, 'w', encoding='utf-8') as f:\n",
    "#     f.write(original_text)\n",
    "\n",
    "# print(f\"已將範例字串寫入 {filename} 檔案中。\")\n",
    "# 測試是否可以將重編碼過的資料正確輸出"
   ]
  },
  {
   "cell_type": "code",
   "execution_count": null,
   "metadata": {},
   "outputs": [],
   "source": []
  },
  {
   "cell_type": "code",
   "execution_count": null,
   "metadata": {},
   "outputs": [],
   "source": []
  }
 ],
 "metadata": {
  "kernelspec": {
   "display_name": "Python 3",
   "language": "python",
   "name": "python3"
  },
  "language_info": {
   "codemirror_mode": {
    "name": "ipython",
    "version": 3
   },
   "file_extension": ".py",
   "mimetype": "text/x-python",
   "name": "python",
   "nbconvert_exporter": "python",
   "pygments_lexer": "ipython3",
   "version": "3.8.3"
  }
 },
 "nbformat": 4,
 "nbformat_minor": 4
}
