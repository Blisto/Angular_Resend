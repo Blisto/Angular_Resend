{
 "cells": [
  {
   "cell_type": "code",
   "execution_count": 1,
   "metadata": {},
   "outputs": [],
   "source": [
    "#python 測試回傳值\n",
    "#jupyter nbconvert returnValueTest.ipynb --to python\n",
    "#pyinstaller -F returnValueTest.py\n",
    "#\n",
    "#\n",
    "import pymysql\n",
    "from array import array\n",
    "import datetime\n",
    "import json\n",
    "import time\n",
    "from configparser import ConfigParser\n",
    "import sys\n",
    "import argparse\n",
    "import re"
   ]
  },
  {
   "cell_type": "code",
   "execution_count": null,
   "metadata": {},
   "outputs": [],
   "source": [
    "n = len(sys.argv)\n",
    "if n < 2:\n",
    "    print(\"filePath,TableName,user,password\")\n",
    "else:\n",
    "    argparse=argparse.ArgumentParser()\n",
    "    argparse.add_argument('args', nargs='*')\n",
    "    args = argparse.parse_args()\n",
    "    elecNum=args.args[0]\n",
    "    print(\"elecNum:\",elecNum)"
   ]
  }
 ],
 "metadata": {
  "kernelspec": {
   "display_name": "Python 3",
   "language": "python",
   "name": "python3"
  },
  "language_info": {
   "codemirror_mode": {
    "name": "ipython",
    "version": 3
   },
   "file_extension": ".py",
   "mimetype": "text/x-python",
   "name": "python",
   "nbconvert_exporter": "python",
   "pygments_lexer": "ipython3",
   "version": "3.8.3"
  }
 },
 "nbformat": 4,
 "nbformat_minor": 4
}
