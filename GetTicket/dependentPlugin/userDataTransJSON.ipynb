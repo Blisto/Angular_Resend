{
 "cells": [
  {
   "cell_type": "code",
   "execution_count": 1,
   "metadata": {},
   "outputs": [],
   "source": [
    "#python包裝讀json挑特定電號的資料\n",
    "#jupyter nbconvert userDataTransJSON.ipynb --to python\n",
    "#pyinstaller -F userDataTransJSON.py\n",
    "#\n",
    "#"
   ]
  },
  {
   "cell_type": "code",
   "execution_count": 5,
   "metadata": {},
   "outputs": [],
   "source": [
    "import pymysql\n",
    "import mysql.connector\n",
    "\n",
    "from array import array\n",
    "from datetime import datetime\n",
    "import json\n",
    "import time\n",
    "from configparser import ConfigParser\n",
    "import sys\n",
    "import argparse\n",
    "import re\n",
    "import os\n"
   ]
  },
  {
   "cell_type": "code",
   "execution_count": null,
   "metadata": {},
   "outputs": [],
   "source": [
    "n = len(sys.argv)\n",
    "if n < 6:\n",
    "    print(\"NEED:filePath、originalFileName、zone、user、password\")\n",
    "#     originalFileName不要副檔名\n",
    "else:\n",
    "    argparse=argparse.ArgumentParser()\n",
    "    argparse.add_argument('args', nargs='*')\n",
    "    args = argparse.parse_args()\n",
    "    argsfilePath=args.args[0].replace('\\\\','/')\n",
    "    originalFileName=args.args[1]\n",
    "    zone=args.args[2]"
   ]
  },
  {
   "cell_type": "code",
   "execution_count": null,
   "metadata": {},
   "outputs": [],
   "source": []
  },
  {
   "cell_type": "code",
   "execution_count": null,
   "metadata": {},
   "outputs": [],
   "source": [
    "#######把原檔整理成json###########\n",
    "file_path = argsfilePath\n",
    "json_data = {}\n",
    "with open(file_path, \"r\", encoding=\"utf-8\") as infile:\n",
    "    for line in infile:\n",
    "        key = line[3:14]\n",
    "        value = line\n",
    "        json_data[key] = value\n",
    "#         print(line)\n",
    "file_path = originalFileName+\".json\"\n",
    "with open(file_path, \"w\", encoding=\"utf-8\") as json_file:\n",
    "    json.dump(json_data, json_file, indent=4)"
   ]
  },
  {
   "cell_type": "code",
   "execution_count": null,
   "metadata": {},
   "outputs": [],
   "source": []
  },
  {
   "cell_type": "code",
   "execution_count": 7,
   "metadata": {},
   "outputs": [
    {
     "data": {
      "text/plain": [
       "'2024-07-04'"
      ]
     },
     "execution_count": 7,
     "metadata": {},
     "output_type": "execute_result"
    }
   ],
   "source": [
    "today = datetime.today().date()\n",
    "formatted_date = today.strftime('%Y-%m-%d')"
   ]
  },
  {
   "cell_type": "code",
   "execution_count": null,
   "metadata": {},
   "outputs": [],
   "source": []
  },
  {
   "cell_type": "code",
   "execution_count": 8,
   "metadata": {},
   "outputs": [],
   "source": [
    "# conn = mysql.connector.connect(\n",
    "#     host=\"localhost\",\n",
    "#     port= 3306,\n",
    "#     user=args.args[4],\n",
    "#     password=args.args[3],\n",
    "#     database=\"ticketgenerator\"\n",
    "# )\n",
    "\n",
    "# cursor = conn.cursor()\n",
    "# sql = \"INSERT INTO ticketgenerator.jsonfilelist (fileName, date, zone) VALUES (%s, %s, %s)\"\n",
    "# values = (originalFileName+\".json\", formatted_date, zone)\n",
    "# cursor.execute(sql, values)\n",
    "# conn.commit()\n",
    "# conn.close()"
   ]
  },
  {
   "cell_type": "code",
   "execution_count": null,
   "metadata": {},
   "outputs": [],
   "source": [
    "conn = pymysql.connect(\n",
    "    host=\"127.0.0.1\",\n",
    "    port=3306,\n",
    "    user=args.args[3],\n",
    "    password=args.args[4],\n",
    "    database=\"ticketgenerator\"\n",
    ")\n",
    "\n",
    "try:\n",
    "    with conn.cursor() as cursor:\n",
    "        sql = \"INSERT INTO ticketgenerator.jsonfilelist (fileName, date, zone) VALUES (%s, %s, %s)\"\n",
    "        values = (originalFileName+\".json\", formatted_date, zone)\n",
    "        cursor.execute(sql, values)\n",
    "    conn.commit()\n",
    "finally:\n",
    "    conn.close()"
   ]
  }
 ],
 "metadata": {
  "kernelspec": {
   "display_name": "Python 3",
   "language": "python",
   "name": "python3"
  },
  "language_info": {
   "codemirror_mode": {
    "name": "ipython",
    "version": 3
   },
   "file_extension": ".py",
   "mimetype": "text/x-python",
   "name": "python",
   "nbconvert_exporter": "python",
   "pygments_lexer": "ipython3",
   "version": "3.8.3"
  }
 },
 "nbformat": 4,
 "nbformat_minor": 4
}
